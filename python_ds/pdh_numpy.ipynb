{
 "nbformat": 4,
 "nbformat_minor": 2,
 "metadata": {
  "language_info": {
   "name": "python",
   "codemirror_mode": {
    "name": "ipython",
    "version": 3
   },
   "version": "3.7.4-final"
  },
  "orig_nbformat": 2,
  "file_extension": ".py",
  "mimetype": "text/x-python",
  "name": "python",
  "npconvert_exporter": "python",
  "pygments_lexer": "ipython3",
  "version": 3,
  "kernelspec": {
   "name": "python37464bitbaseconda25d30b6a31c24f9ead7b81db49393c56",
   "display_name": "Python 3.7.4 64-bit ('base': conda)"
  }
 },
 "cells": [
  {
   "cell_type": "markdown",
   "execution_count": null,
   "metadata": {},
   "outputs": [],
   "source": [
    "# 1- DataTypes in python\n",
    "## Python Integer is more than just an Integer\n",
    "* C int points to position in memory whose bytes encode integer value.\n",
    "* Python int points to position in memory containing all the python object information:\n",
    "  * PyObject_HEAD (ob_refcnt, ob_type, ob_size)\n",
    "  * ob_digit: int value of the Python variable\n",
    "## Python List is more than just a List\n",
    "* NumPy array:\n",
    "  * PyObject_HEAD + dimensions + strides\n",
    "  * data: pointing directly to raw data (e.g. C int etc...)\n",
    "* List in python handle heterogeneous data types are more complex:\n",
    "  * PyObject_HEAD + length\n",
    "  * items: pointing to memory location itself pointing to python objects (each having PyObject_HEAD etc...)\n",
    "* so a list containing a single datatype is unnecessarily memory expensive"
   ]
  },
  {
   "cell_type": "markdown",
   "execution_count": null,
   "metadata": {},
   "outputs": [],
   "source": [
    "# 2- Arrays - Basics\n",
    "## Python fixed-type arrays\n",
    "* Introduced in py3.3, efficient storage but less powerful than np.array"
   ]
  },
  {
   "cell_type": "code",
   "execution_count": 1,
   "metadata": {},
   "outputs": [
    {
     "data": {
      "text/plain": "array('i', [1, 2, 3])"
     },
     "execution_count": 1,
     "metadata": {},
     "output_type": "execute_result"
    }
   ],
   "source": [
    "import array\n",
    "array.array(\"i\", [1, 2, 3])"
   ]
  },
  {
   "cell_type": "markdown",
   "execution_count": null,
   "metadata": {},
   "outputs": [],
   "source": [
    "## NumPy arrays: datatypes\n",
    "* manually set with \"dtype\" arg, can use enum in np (e.g. dtype=np.int16)\n",
    "* similar to C: int16, int32, float16, float32, uint8 etc...)\n",
    "## NumPy arrays: create from python list"
   ]
  },
  {
   "cell_type": "code",
   "execution_count": 13,
   "metadata": {},
   "outputs": [
    {
     "name": "stdout",
     "output_type": "stream",
     "text": "array from int list: array([1, 5, 6, 7])\narray from mix of int and float list: array([1.5, 2. , 2.5])\narray from float list: array([1.5, 2.4], dtype=float16)\narray from list containing 3 lists: array([[2, 3, 4],\n       [4, 5, 6],\n       [6, 7, 8]])\n"
    }
   ],
   "source": [
    "import numpy as np\n",
    "# create int array from a list and type is allocated by default\n",
    "arr_int = np.array([1, 5, 6, 7])\n",
    "print(\"array from int list:\", repr(arr_int))\n",
    "# numpy upcasts when possible (float+int -> everything is float)\n",
    "arr_upcast = np.array([1.5, 2, 2.5])\n",
    "print(\"array from mix of int and float list:\", repr(arr_upcast))\n",
    "# set dtype manually\n",
    "arr_float = np.array([1.5, 2.4], dtype=np.float16)\n",
    "print(\"array from float list:\", repr(arr_float))\n",
    "# numpy arrays can be multidimensional (3 nested lists = 3x3 matrix)\n",
    "arr_3d = np.array([range(i, i+3) for i in [2, 4, 6]])\n",
    "print(\"array from list containing 3 lists:\", repr(arr_3d))"
   ]
  },
  {
   "cell_type": "markdown",
   "execution_count": null,
   "metadata": {},
   "outputs": [],
   "source": [
    "## NumPy arrays: create from built-in methods"
   ]
  },
  {
   "cell_type": "code",
   "execution_count": 14,
   "metadata": {},
   "outputs": [
    {
     "data": {
      "text/plain": "array([[2, 5, 4],\n       [7, 6, 5],\n       [2, 6, 9]])"
     },
     "execution_count": 14,
     "metadata": {},
     "output_type": "execute_result"
    }
   ],
   "source": [
    "# Arrays of same numbers\n",
    "np.zeros(10, dtype=int)\n",
    "np.ones((3, 5), dtype=float)  # 3x5 matrix of ones\n",
    "np.full((3, 5), 3.14)  # 3x5 matrix of 3.14\n",
    "# Arrays defined from ranges\n",
    "np.arange(0, 20, 2)  # similar to classic range but return an array\n",
    "np.linspace(0, 1, 5)  # create 5 entries evenly spaced between 0 and 1\n",
    "# Random data generators (examples for 3x3 matrix)\n",
    "np.random.random((3, 3))  # uniform distribution\n",
    "np.random.normal(0, 1, (3, 3))  # normal distribution, mean 0, sd 1\n",
    "np.random.randint(0, 10, (3, 3))  # random int between 0 and 10"
   ]
  },
  {
   "cell_type": "markdown",
   "execution_count": null,
   "metadata": {},
   "outputs": [],
   "source": [
    "# 3- NumPy arrays - Introduction\n",
    "## NumPy Array - Key attributes"
   ]
  },
  {
   "cell_type": "code",
   "execution_count": 1,
   "metadata": {},
   "outputs": [
    {
     "name": "stdout",
     "output_type": "stream",
     "text": "x3 ndim: 3\nx3 shape: (3, 4, 5)\nx3 size: 60\nx3 itemsize: 8\nx3 nbytes: 480\nx3 size * itemsize: 480\nx3 dtype int64\n"
    }
   ],
   "source": [
    "import numpy as np\n",
    "np.random.seed(0)  # seed to reproduce\n",
    "# Create 3 example arrays: 1d, 2d, 3d - used across examples of point 3-\n",
    "x1 = np.random.randint(10, size=6)  # 1d 6 entries\n",
    "x2 = np.random.randint(10, size=(3, 4))  # 2d 12 entries\n",
    "x3 = np.random.randint(10, size=(3, 4, 5))  # 3d 60 entries\n",
    "\n",
    "# Structure of the array: ndim, shape, size\n",
    "print(\"x3 ndim:\", x3.ndim)\n",
    "print(\"x3 shape:\", x3.shape)\n",
    "print(\"x3 size:\", x3.size)\n",
    "# Memory size and datatype\n",
    "print(\"x3 itemsize:\", x3.itemsize)\n",
    "print(\"x3 nbytes:\", x3.nbytes)\n",
    "print(\"x3 size * itemsize:\", x3.size * x3.itemsize)\n",
    "print(\"x3 dtype\", x3.dtype)"
   ]
  },
  {
   "cell_type": "markdown",
   "execution_count": null,
   "metadata": {},
   "outputs": [],
   "source": [
    "## NumPy Array - Indexing and Slicing\n",
    "* Indexing:\n",
    "  * 1d Array: use traditional Python indexing\n",
    "  * Multi-dim arrays: use comma separated tuple\n",
    "  * You can also modify array values with indexing\n",
    "* Slicing:\n",
    "  * Same as standard Python, for array x1, x1[[start:stop:step]] with default start=0 and step=1\n",
    "  * Multi-dim arrays: use comma separated tuple with each containing desired start:stop:step\n",
    "  * Sliced np arrays are not copies:\n",
    "    * sliced python lists return new list\n",
    "    * sliced np arrays return slice of source data which can be modified directly from sliced array\n",
    "    * you can override this behaviour by using sliced_array.copy()"
   ]
  },
  {
   "cell_type": "code",
   "execution_count": 5,
   "metadata": {},
   "outputs": [
    {
     "name": "stdout",
     "output_type": "stream",
     "text": "Indexing\narray([[10,  5,  2,  4],\n       [ 7,  6,  8,  8],\n       [ 1,  6,  7,  7]])\n1\n7\n10\nMulti-dimension array slicing\narray([[10,  5,  2,  4],\n       [ 7,  6,  8,  8],\n       [ 1,  6,  7,  7]])\narray([[10,  5,  2],\n       [ 7,  6,  8]])\narray([[10,  2],\n       [ 7,  8],\n       [ 1,  7]])\narray([[ 7,  7,  6,  1],\n       [ 8,  8,  6,  7],\n       [ 4,  2,  5, 10]])\nAccessing a single vector\n[10  7  1]\n[10  5  2  4]\n"
    }
   ],
   "source": [
    "print(\"Indexing\")\n",
    "print(repr(x2))\n",
    "print(x2[2, 0])  # row 2, column 0\n",
    "print(x2[2, -1])  # Row 2, last column\n",
    "x2[0, 0] = 10  # Modify Row 0, Column 0\n",
    "print(x2[0, 0])\n",
    "\n",
    "print(\"Multi-dimension array slicing\")\n",
    "print(repr(x2))\n",
    "print(repr(x2[:2, :3]))  # 2 rows, 3 columns\n",
    "print(repr(x2[:3, ::2]))  # 3 rows, every other columns\n",
    "print(repr(x2[::-1, ::-1]))  # Reverse rows and columns\n",
    "\n",
    "print(\"Accessing a single vector\")\n",
    "print(x2[:, 0])  # all values in first column\n",
    "print(x2[0, :])  # all values in first row"
   ]
  },
  {
   "cell_type": "code",
   "execution_count": null,
   "metadata": {},
   "outputs": [],
   "source": [
    "## NumPy Array - operations: reshape, concatenate and split\n",
    "* Reshaping (not all operations below create copies of array):\n",
    "  * Use array.reshape() method and pass new shape in tuple\n",
    "  * Use slicing with newaxis keyword (only when 1 axis to be added)\n",
    "* Contatenation:\n",
    "  * use array.concatenate() method and pass arrays to concat in list\n",
    "  * 2d arrays: by default stack on rows, but can use axis=1 to stack side-by-side\n",
    "  * mixed dim arrays:\n",
    "    * use array.vstack() for explicit vertical stacking (rows)"
   ]
  },
  {
   "cell_type": "code",
   "execution_count": 4,
   "metadata": {},
   "outputs": [
    {
     "name": "stdout",
     "output_type": "stream",
     "text": "[5 0 3 3 7 9]\n[[5 0 3]\n [3 7 9]]\n[[5]\n [0]\n [3]\n [3]\n [7]\n [9]]\n"
    }
   ],
   "source": [
    "print(x1)\n",
    "print(x1.reshape(2, 3))  # reshape x1 (6 entries) as 2x3 matrix\n",
    "print(x1[:, np.newaxis])  # reshape x1 as 6x1 matrix"
   ]
  },
  {
   "cell_type": "code",
   "execution_count": null,
   "metadata": {},
   "outputs": [],
   "source": []
  }
 ]
}